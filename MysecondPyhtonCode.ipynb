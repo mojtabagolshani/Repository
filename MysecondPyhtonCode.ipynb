{
  "nbformat": 4,
  "nbformat_minor": 0,
  "metadata": {
    "kernelspec": {
      "display_name": "Python 3",
      "language": "python",
      "name": "python3"
    },
    "language_info": {
      "codemirror_mode": {
        "name": "ipython",
        "version": 3
      },
      "file_extension": ".py",
      "mimetype": "text/x-python",
      "name": "python",
      "nbconvert_exporter": "python",
      "pygments_lexer": "ipython3",
      "version": "3.7.4"
    },
    "colab": {
      "name": "MysecondPyhtonCode.ipynb",
      "provenance": [],
      "include_colab_link": true
    }
  },
  "cells": [
    {
      "cell_type": "markdown",
      "metadata": {
        "id": "view-in-github",
        "colab_type": "text"
      },
      "source": [
        "<a href=\"https://colab.research.google.com/github/mojtabagolshani/Repository/blob/master/MysecondPyhtonCode.ipynb\" target=\"_parent\"><img src=\"https://colab.research.google.com/assets/colab-badge.svg\" alt=\"Open In Colab\"/></a>"
      ]
    },
    {
      "cell_type": "code",
      "metadata": {
        "id": "0m26BeqNQAwx",
        "colab_type": "code",
        "colab": {
          "base_uri": "https://localhost:8080/",
          "height": 34
        },
        "outputId": "c1756c4e-790d-40cb-ce6d-0ba8c41feeee"
      },
      "source": [
        "x=[i for i in range(1,11,1)]\n",
        "print(x)"
      ],
      "execution_count": 1,
      "outputs": [
        {
          "output_type": "stream",
          "text": [
            "[1, 2, 3, 4, 5, 6, 7, 8, 9, 10]\n"
          ],
          "name": "stdout"
        }
      ]
    },
    {
      "cell_type": "code",
      "metadata": {
        "id": "e7cP3gHDQAw5",
        "colab_type": "code",
        "colab": {},
        "outputId": "58b951c1-b1b2-4795-90a2-f6921932b3b1"
      },
      "source": [
        "x[0:5:2]\n",
        "x[-1]\n",
        "x[-1:-6:-1]"
      ],
      "execution_count": 0,
      "outputs": [
        {
          "output_type": "execute_result",
          "data": {
            "text/plain": [
              "[10, 9, 8, 7, 6]"
            ]
          },
          "metadata": {
            "tags": []
          },
          "execution_count": 2
        }
      ]
    },
    {
      "cell_type": "code",
      "metadata": {
        "id": "YdMTrSN4QAw9",
        "colab_type": "code",
        "colab": {},
        "outputId": "51e10124-5bb7-4265-b516-807701f622cd"
      },
      "source": [
        "len(x)\n",
        "max(x)\n",
        "min(x)\n",
        "y=[-4,1,-3,5,10,-2]\n",
        "z=sorted(y)\n",
        "z"
      ],
      "execution_count": 0,
      "outputs": [
        {
          "output_type": "execute_result",
          "data": {
            "text/plain": [
              "[-4, -3, -2, 1, 5, 10]"
            ]
          },
          "metadata": {
            "tags": []
          },
          "execution_count": 3
        }
      ]
    },
    {
      "cell_type": "code",
      "metadata": {
        "id": "Zz5_h1AoQAxC",
        "colab_type": "code",
        "colab": {},
        "outputId": "bc887576-97ec-4227-83b9-274a99c95c43"
      },
      "source": [
        "y"
      ],
      "execution_count": 0,
      "outputs": [
        {
          "output_type": "execute_result",
          "data": {
            "text/plain": [
              "[-4, 1, -3, 5, 10, -2]"
            ]
          },
          "metadata": {
            "tags": []
          },
          "execution_count": 4
        }
      ]
    },
    {
      "cell_type": "code",
      "metadata": {
        "id": "xalazhP5QAxG",
        "colab_type": "code",
        "colab": {}
      },
      "source": [
        "y.sort()"
      ],
      "execution_count": 0,
      "outputs": []
    },
    {
      "cell_type": "code",
      "metadata": {
        "id": "veyDjrvpQAxJ",
        "colab_type": "code",
        "colab": {},
        "outputId": "844ae7c1-042c-46c0-b558-0f59d75149ff"
      },
      "source": [
        "y"
      ],
      "execution_count": 0,
      "outputs": [
        {
          "output_type": "execute_result",
          "data": {
            "text/plain": [
              "[-4, -3, -2, 1, 5, 10]"
            ]
          },
          "metadata": {
            "tags": []
          },
          "execution_count": 15
        }
      ]
    },
    {
      "cell_type": "code",
      "metadata": {
        "id": "pdOa6rpaQAxN",
        "colab_type": "code",
        "colab": {},
        "outputId": "d7b7456c-9db3-44d1-fa56-c3ad9f417fe0"
      },
      "source": [
        "z=[-1,3,-1,1,-1,5,5]\n",
        "z.count(-1)\n",
        "z.count(5)"
      ],
      "execution_count": 0,
      "outputs": [
        {
          "output_type": "execute_result",
          "data": {
            "text/plain": [
              "2"
            ]
          },
          "metadata": {
            "tags": []
          },
          "execution_count": 16
        }
      ]
    },
    {
      "cell_type": "code",
      "metadata": {
        "id": "UhqaYGZtQAxR",
        "colab_type": "code",
        "colab": {}
      },
      "source": [
        "w=z"
      ],
      "execution_count": 0,
      "outputs": []
    },
    {
      "cell_type": "code",
      "metadata": {
        "id": "GtsDZ_2KQAxX",
        "colab_type": "code",
        "colab": {},
        "outputId": "335c8dc3-ee5e-45b6-d212-c916d540b6b9"
      },
      "source": [
        "w"
      ],
      "execution_count": 0,
      "outputs": [
        {
          "output_type": "execute_result",
          "data": {
            "text/plain": [
              "[-1, 3, -1, 1, -1, 5, 5]"
            ]
          },
          "metadata": {
            "tags": []
          },
          "execution_count": 72
        }
      ]
    },
    {
      "cell_type": "code",
      "metadata": {
        "id": "LoeJSD9KQAxa",
        "colab_type": "code",
        "colab": {}
      },
      "source": [
        "z[0]=1"
      ],
      "execution_count": 0,
      "outputs": []
    },
    {
      "cell_type": "code",
      "metadata": {
        "id": "MXRcaldYQAxd",
        "colab_type": "code",
        "colab": {},
        "outputId": "fca585b1-beab-40a5-d104-4888a551d717"
      },
      "source": [
        "z"
      ],
      "execution_count": 0,
      "outputs": [
        {
          "output_type": "execute_result",
          "data": {
            "text/plain": [
              "[1, 3, -1, 1, -1, 5, 5]"
            ]
          },
          "metadata": {
            "tags": []
          },
          "execution_count": 37
        }
      ]
    },
    {
      "cell_type": "code",
      "metadata": {
        "id": "nuRBpWcqQAxh",
        "colab_type": "code",
        "colab": {},
        "outputId": "d8b20bb7-6406-494b-ae05-c24a4926b9c9"
      },
      "source": [
        "w"
      ],
      "execution_count": 0,
      "outputs": [
        {
          "output_type": "execute_result",
          "data": {
            "text/plain": [
              "[1, 3, -1, 1, -1, 5, 5]"
            ]
          },
          "metadata": {
            "tags": []
          },
          "execution_count": 38
        }
      ]
    },
    {
      "cell_type": "code",
      "metadata": {
        "id": "i8K-CjsLQAxn",
        "colab_type": "code",
        "colab": {}
      },
      "source": [
        "v=z.copy()"
      ],
      "execution_count": 0,
      "outputs": []
    },
    {
      "cell_type": "code",
      "metadata": {
        "id": "CqanQUpiQAxr",
        "colab_type": "code",
        "colab": {},
        "outputId": "8ffb9b5f-dd8d-47fa-9220-e3e00466118a"
      },
      "source": [
        "v\n",
        "z[0]=6\n",
        "z"
      ],
      "execution_count": 0,
      "outputs": [
        {
          "output_type": "execute_result",
          "data": {
            "text/plain": [
              "[6, 3, -1, 1, -1, 5, 5]"
            ]
          },
          "metadata": {
            "tags": []
          },
          "execution_count": 41
        }
      ]
    },
    {
      "cell_type": "code",
      "metadata": {
        "id": "RwioAo4FQAxu",
        "colab_type": "code",
        "colab": {},
        "outputId": "5a9e54f8-46d9-4196-cbe4-8d2f9bdd9f56"
      },
      "source": [
        "v"
      ],
      "execution_count": 0,
      "outputs": [
        {
          "output_type": "execute_result",
          "data": {
            "text/plain": [
              "[1, 3, -1, 1, -1, 5, 5]"
            ]
          },
          "metadata": {
            "tags": []
          },
          "execution_count": 42
        }
      ]
    },
    {
      "cell_type": "code",
      "metadata": {
        "id": "bSMxZNkRQAxy",
        "colab_type": "code",
        "colab": {},
        "outputId": "240ded00-376d-4626-936c-4d14bd18d942"
      },
      "source": [
        "v=z[:]\n",
        "v"
      ],
      "execution_count": 0,
      "outputs": [
        {
          "output_type": "execute_result",
          "data": {
            "text/plain": [
              "[6, 3, -1, 1, -1, 5, 5]"
            ]
          },
          "metadata": {
            "tags": []
          },
          "execution_count": 46
        }
      ]
    },
    {
      "cell_type": "code",
      "metadata": {
        "id": "q9B3TTaHQAx1",
        "colab_type": "code",
        "colab": {},
        "outputId": "4088a16b-bb76-4af7-8738-ee584257274a"
      },
      "source": [
        "v[2:]\n",
        "v[:4]"
      ],
      "execution_count": 0,
      "outputs": [
        {
          "output_type": "execute_result",
          "data": {
            "text/plain": [
              "[6, 3, -1, 1]"
            ]
          },
          "metadata": {
            "tags": []
          },
          "execution_count": 48
        }
      ]
    },
    {
      "cell_type": "code",
      "metadata": {
        "id": "XPON02vBQAx5",
        "colab_type": "code",
        "colab": {},
        "outputId": "b9a95c58-9ae8-4c9b-a488-2eac1beba33a"
      },
      "source": [
        "del v[1]\n",
        "v"
      ],
      "execution_count": 0,
      "outputs": [
        {
          "output_type": "execute_result",
          "data": {
            "text/plain": [
              "[6, 1, -1, 5, 5]"
            ]
          },
          "metadata": {
            "tags": []
          },
          "execution_count": 50
        }
      ]
    },
    {
      "cell_type": "code",
      "metadata": {
        "id": "UkPrahd-QAx9",
        "colab_type": "code",
        "colab": {}
      },
      "source": [
        "del v[1:3]"
      ],
      "execution_count": 0,
      "outputs": []
    },
    {
      "cell_type": "code",
      "metadata": {
        "id": "hh1RUG_OQAyD",
        "colab_type": "code",
        "colab": {},
        "outputId": "e928ad3a-ddd9-493d-d5cb-03bff0f36b94"
      },
      "source": [
        "v"
      ],
      "execution_count": 0,
      "outputs": [
        {
          "output_type": "execute_result",
          "data": {
            "text/plain": [
              "[6, 5, 5]"
            ]
          },
          "metadata": {
            "tags": []
          },
          "execution_count": 52
        }
      ]
    },
    {
      "cell_type": "code",
      "metadata": {
        "id": "2HTcnYbNQAyH",
        "colab_type": "code",
        "colab": {}
      },
      "source": [
        "v.insert(0,3)"
      ],
      "execution_count": 0,
      "outputs": []
    },
    {
      "cell_type": "code",
      "metadata": {
        "id": "ko9rpdmXQAyK",
        "colab_type": "code",
        "colab": {},
        "outputId": "62f61206-4284-406d-8d4b-22d7cc09a6a0"
      },
      "source": [
        "v"
      ],
      "execution_count": 0,
      "outputs": [
        {
          "output_type": "execute_result",
          "data": {
            "text/plain": [
              "[3, 3, 6, 5, 5]"
            ]
          },
          "metadata": {
            "tags": []
          },
          "execution_count": 56
        }
      ]
    },
    {
      "cell_type": "code",
      "metadata": {
        "id": "mxJD-tEqQAyN",
        "colab_type": "code",
        "colab": {}
      },
      "source": [
        "v.insert(-2,8)"
      ],
      "execution_count": 0,
      "outputs": []
    },
    {
      "cell_type": "code",
      "metadata": {
        "id": "sZx82Hn1QAyQ",
        "colab_type": "code",
        "colab": {},
        "outputId": "b00c1b67-36b3-423c-a7df-1c7c34cba596"
      },
      "source": [
        "v"
      ],
      "execution_count": 0,
      "outputs": [
        {
          "output_type": "execute_result",
          "data": {
            "text/plain": [
              "[3, 3, 6, 8, 5, 5]"
            ]
          },
          "metadata": {
            "tags": []
          },
          "execution_count": 58
        }
      ]
    },
    {
      "cell_type": "code",
      "metadata": {
        "id": "-QkC9SdkQAyT",
        "colab_type": "code",
        "colab": {},
        "outputId": "4598b5c3-3aa7-4707-b1d6-2c4834dd3329"
      },
      "source": [
        "v.reverse()\n",
        "v"
      ],
      "execution_count": 0,
      "outputs": [
        {
          "output_type": "execute_result",
          "data": {
            "text/plain": [
              "[5, 5, 8, 6, 3, 3]"
            ]
          },
          "metadata": {
            "tags": []
          },
          "execution_count": 63
        }
      ]
    },
    {
      "cell_type": "code",
      "metadata": {
        "id": "zSZh4U5uQAyY",
        "colab_type": "code",
        "colab": {},
        "outputId": "9bd526f6-a042-40aa-8749-8ab70cbe6418"
      },
      "source": [
        "x=[i**2 for i in range(1,31) if i%3==0]\n",
        "x"
      ],
      "execution_count": 0,
      "outputs": [
        {
          "output_type": "execute_result",
          "data": {
            "text/plain": [
              "[9, 36, 81, 144, 225, 324, 441, 576, 729, 900]"
            ]
          },
          "metadata": {
            "tags": []
          },
          "execution_count": 66
        }
      ]
    },
    {
      "cell_type": "code",
      "metadata": {
        "id": "_VbUgWrUQAyb",
        "colab_type": "code",
        "colab": {},
        "outputId": "eb1359c3-9be9-4867-916a-7811cdd0e0d7"
      },
      "source": [
        "x=[i**2 if i%2!=0 else i for i in range(1,21)]\n",
        "x"
      ],
      "execution_count": 0,
      "outputs": [
        {
          "output_type": "execute_result",
          "data": {
            "text/plain": [
              "[1, 2, 9, 4, 25, 6, 49, 8, 81, 10, 121, 12, 169, 14, 225, 16, 289, 18, 361, 20]"
            ]
          },
          "metadata": {
            "tags": []
          },
          "execution_count": 68
        }
      ]
    },
    {
      "cell_type": "code",
      "metadata": {
        "id": "hI3Qh3t8QAye",
        "colab_type": "code",
        "colab": {},
        "outputId": "5cf88f77-7d02-4c3f-ea63-eb78f07a2966"
      },
      "source": [
        "[i*j for i in range(1,6) for j in range(2,4)]"
      ],
      "execution_count": 0,
      "outputs": [
        {
          "output_type": "execute_result",
          "data": {
            "text/plain": [
              "[2, 3, 4, 6, 6, 9, 8, 12, 10, 15]"
            ]
          },
          "metadata": {
            "tags": []
          },
          "execution_count": 71
        }
      ]
    },
    {
      "cell_type": "code",
      "metadata": {
        "id": "71_vDxuKQAyh",
        "colab_type": "code",
        "colab": {},
        "outputId": "11a225f8-c85f-4f1a-a1a7-99bc69a4b507"
      },
      "source": [
        "x=[]\n",
        "for i in range(1,6):\n",
        "    for j in range(2,4):\n",
        "        x.append(i*j)\n",
        "x"
      ],
      "execution_count": 0,
      "outputs": [
        {
          "output_type": "execute_result",
          "data": {
            "text/plain": [
              "[2, 3, 4, 6, 6, 9, 8, 12, 10, 15]"
            ]
          },
          "metadata": {
            "tags": []
          },
          "execution_count": 72
        }
      ]
    },
    {
      "cell_type": "markdown",
      "metadata": {
        "id": "QXqIawqRQAyj",
        "colab_type": "text"
      },
      "source": [
        "## Format"
      ]
    },
    {
      "cell_type": "code",
      "metadata": {
        "id": "v0wydwMWQAyk",
        "colab_type": "code",
        "colab": {},
        "outputId": "a52b4361-3c9f-42ae-fe7e-a9b999040233"
      },
      "source": [
        "y1=2.35667\n",
        "y2=-34.5659\n",
        "y3=125\n",
        "print(y1)\n",
        "print(\"x=\",y1)\n",
        "print(\"x={0:+15.7f}\".format(y1,y2,y3))\n",
        "print(\"x={0:>+15.7f}\".format(y1,y2,y3))\n",
        "print(\"x={0:<+15.7f}\".format(y1,y2,y3))\n",
        "print(\"x={0:^+15.7f}\".format(y1,y2,y3))\n",
        "print(\"x={0:+15.7e}\".format(y1,y2,y3))\n",
        "print(\"x={0:+15.7E}\".format(y1,y2,y3))\n",
        "print(\"x={0:+15.7g}\".format(y1,y2,y3))\n",
        "print(\"x={2:+15d}\".format(y1,y2,y3))\n",
        "print(\"x={2:-15d}\".format(y1,y2,y3))\n",
        "print(\"name is {0:20s}\".format(\"Mojtaba\"))\n",
        "print(\"name is {0:^20s}\".format(\"Mojtaba\"))\n",
        "print(\"name is {0:>20s}\".format(\"Mojtaba\"))"
      ],
      "execution_count": 0,
      "outputs": [
        {
          "output_type": "stream",
          "text": [
            "2.35667\n",
            "x= 2.35667\n",
            "x=     +2.3566700\n",
            "x=     +2.3566700\n",
            "x=+2.3566700     \n",
            "x=  +2.3566700   \n",
            "x= +2.3566700e+00\n",
            "x= +2.3566700E+00\n",
            "x=       +2.35667\n",
            "x=           +125\n",
            "x=            125\n",
            "name is Mojtaba             \n",
            "name is       Mojtaba       \n",
            "name is              Mojtaba\n"
          ],
          "name": "stdout"
        }
      ]
    },
    {
      "cell_type": "code",
      "metadata": {
        "id": "3Skz7_V8QAyo",
        "colab_type": "code",
        "colab": {},
        "outputId": "049798a5-ee45-4602-8f4d-2b96378e62d0"
      },
      "source": [
        "print(\"{0:^.3f}+({1:^.3f})={2:^.3f}\".format(y1,y2,y1+y2))"
      ],
      "execution_count": 0,
      "outputs": [
        {
          "output_type": "stream",
          "text": [
            "2.357+(-34.566)=-32.209\n"
          ],
          "name": "stdout"
        }
      ]
    },
    {
      "cell_type": "code",
      "metadata": {
        "id": "uNFgJIk6QAyt",
        "colab_type": "code",
        "colab": {},
        "outputId": "4e311033-ba20-4937-dead-d7396d307374"
      },
      "source": [
        "print('{}+({}) = \\n \\t {}\\''.format(y1,y2,y1+y2))"
      ],
      "execution_count": 0,
      "outputs": [
        {
          "output_type": "stream",
          "text": [
            "2.35667+(-34.5659) = \n",
            " \t -32.20923'\n"
          ],
          "name": "stdout"
        }
      ]
    },
    {
      "cell_type": "markdown",
      "metadata": {
        "id": "QbmHl9bpQAyw",
        "colab_type": "text"
      },
      "source": [
        "### Work with Files"
      ]
    },
    {
      "cell_type": "code",
      "metadata": {
        "id": "3HTjfkJRQAyw",
        "colab_type": "code",
        "colab": {}
      },
      "source": [
        "f=open(\"data1.txt\",\"w\")  # r,w,a,r+,a+"
      ],
      "execution_count": 0,
      "outputs": []
    },
    {
      "cell_type": "code",
      "metadata": {
        "id": "b3LI1us3QAyz",
        "colab_type": "code",
        "colab": {}
      },
      "source": [
        "x=[\"5*{:5}={:5}\\n\".format(i,5*i) for i in range(1,6)]"
      ],
      "execution_count": 0,
      "outputs": []
    },
    {
      "cell_type": "code",
      "metadata": {
        "id": "ezcHKrIMQAy2",
        "colab_type": "code",
        "colab": {}
      },
      "source": [
        "f.writelines(x)\n",
        "f.write(\"Mojtaba \\n \\n\")\n",
        "f.write(\"Golshani\");"
      ],
      "execution_count": 0,
      "outputs": []
    },
    {
      "cell_type": "code",
      "metadata": {
        "id": "n6VQEXuhQAy5",
        "colab_type": "code",
        "colab": {}
      },
      "source": [
        "f.close()"
      ],
      "execution_count": 0,
      "outputs": []
    },
    {
      "cell_type": "code",
      "metadata": {
        "id": "YQXjjZygQAy8",
        "colab_type": "code",
        "colab": {}
      },
      "source": [
        "v0=10;# m/s\n",
        "theta0=3.14/6\n",
        "g=9.8 # m/s^2"
      ],
      "execution_count": 0,
      "outputs": []
    },
    {
      "cell_type": "code",
      "metadata": {
        "id": "J3xZjof_QAzA",
        "colab_type": "code",
        "colab": {}
      },
      "source": [
        "import math"
      ],
      "execution_count": 0,
      "outputs": []
    },
    {
      "cell_type": "code",
      "metadata": {
        "id": "63H79wY-QAzD",
        "colab_type": "code",
        "colab": {}
      },
      "source": [
        "t=[0.1*i for i in range(0,11)]\n",
        "x=[v0*math.cos(theta0)*i for i in t]\n",
        "y=[-1/2*g*i**2+v0*math.sin(theta0)*i for i in t]"
      ],
      "execution_count": 0,
      "outputs": []
    },
    {
      "cell_type": "code",
      "metadata": {
        "id": "ybkk1xXFQAzJ",
        "colab_type": "code",
        "colab": {}
      },
      "source": [
        "ndata=len(t)\n",
        "f2=open(\"projectile motion.txt\",\"w\")\n",
        "f2.write(\"{0:^10s}\\t {1:^10s}\\n\".format(\"x\",\"y\"))\n",
        "for i in range(ndata):\n",
        "    f2.write(\"{0:^10.2f}\\t {1:^10.3f}\\n\".format(x[i],y[i]))    "
      ],
      "execution_count": 0,
      "outputs": []
    },
    {
      "cell_type": "code",
      "metadata": {
        "id": "h8HKIzn_QAzN",
        "colab_type": "code",
        "colab": {}
      },
      "source": [
        "f2.close()"
      ],
      "execution_count": 0,
      "outputs": []
    },
    {
      "cell_type": "code",
      "metadata": {
        "id": "6kUTd8bDQAzR",
        "colab_type": "code",
        "colab": {}
      },
      "source": [
        "f3=open(\"projectile motion.txt\",\"r\")\n",
        "indata1=f3.read()"
      ],
      "execution_count": 0,
      "outputs": []
    },
    {
      "cell_type": "code",
      "metadata": {
        "id": "jbfbIlovQAzV",
        "colab_type": "code",
        "colab": {},
        "outputId": "892eebb1-56b8-4542-9efc-d3de7e1ff409"
      },
      "source": [
        "indata1"
      ],
      "execution_count": 0,
      "outputs": [
        {
          "output_type": "execute_result",
          "data": {
            "text/plain": [
              "'    x     \\t     y     \\n   0.00   \\t   0.000   \\n   0.87   \\t   0.451   \\n   1.73   \\t   0.804   \\n   2.60   \\t   1.058   \\n   3.46   \\t   1.215   \\n   4.33   \\t   1.274   \\n   5.20   \\t   1.235   \\n   6.06   \\t   1.097   \\n   6.93   \\t   0.862   \\n   7.80   \\t   0.529   \\n   8.66   \\t   0.098   \\n'"
            ]
          },
          "metadata": {
            "tags": []
          },
          "execution_count": 208
        }
      ]
    },
    {
      "cell_type": "code",
      "metadata": {
        "id": "-YMyc4QlQAzZ",
        "colab_type": "code",
        "colab": {},
        "outputId": "68fcadb9-66b4-48f3-c049-cc43657d73ea"
      },
      "source": [
        "f3=open(\"projectile motion.txt\",\"r\")\n",
        "indata2=f3.readlines()\n",
        "indata2\n",
        "len(indata2)"
      ],
      "execution_count": 0,
      "outputs": [
        {
          "output_type": "execute_result",
          "data": {
            "text/plain": [
              "12"
            ]
          },
          "metadata": {
            "tags": []
          },
          "execution_count": 233
        }
      ]
    },
    {
      "cell_type": "code",
      "metadata": {
        "id": "CBholEofQAze",
        "colab_type": "code",
        "colab": {},
        "outputId": "2b8a1f32-c506-4c4a-c66e-04c46cae6d30"
      },
      "source": [
        "indata2s=[indata2[i].split(\"\\t\") for i in range(len(indata2))]\n",
        "indata2s"
      ],
      "execution_count": 0,
      "outputs": [
        {
          "output_type": "execute_result",
          "data": {
            "text/plain": [
              "[['    x     ', '     y     \\n'],\n",
              " ['   0.00   ', '   0.000   \\n'],\n",
              " ['   0.87   ', '   0.451   \\n'],\n",
              " ['   1.73   ', '   0.804   \\n'],\n",
              " ['   2.60   ', '   1.058   \\n'],\n",
              " ['   3.46   ', '   1.215   \\n'],\n",
              " ['   4.33   ', '   1.274   \\n'],\n",
              " ['   5.20   ', '   1.235   \\n'],\n",
              " ['   6.06   ', '   1.097   \\n'],\n",
              " ['   6.93   ', '   0.862   \\n'],\n",
              " ['   7.80   ', '   0.529   \\n'],\n",
              " ['   8.66   ', '   0.098   \\n']]"
            ]
          },
          "metadata": {
            "tags": []
          },
          "execution_count": 234
        }
      ]
    },
    {
      "cell_type": "code",
      "metadata": {
        "id": "CB_kVzoaQAzh",
        "colab_type": "code",
        "colab": {},
        "outputId": "e0294cc6-0a99-4e57-c6d8-a3c0b05facac"
      },
      "source": [
        "X=[float(indata2s[i][0]) for i in range(1,len(indata2))]\n",
        "X"
      ],
      "execution_count": 0,
      "outputs": [
        {
          "output_type": "execute_result",
          "data": {
            "text/plain": [
              "[0.0, 0.87, 1.73, 2.6, 3.46, 4.33, 5.2, 6.06, 6.93, 7.8, 8.66]"
            ]
          },
          "metadata": {
            "tags": []
          },
          "execution_count": 235
        }
      ]
    },
    {
      "cell_type": "code",
      "metadata": {
        "id": "GFHI8rb8QAzl",
        "colab_type": "code",
        "colab": {},
        "outputId": "01727a39-5f99-4c19-dea7-52dca91f6a42"
      },
      "source": [
        "Y=[float(indata2s[i][1]) for i in range(1,len(indata2))]\n",
        "Y"
      ],
      "execution_count": 0,
      "outputs": [
        {
          "output_type": "execute_result",
          "data": {
            "text/plain": [
              "[0.0, 0.451, 0.804, 1.058, 1.215, 1.274, 1.235, 1.097, 0.862, 0.529, 0.098]"
            ]
          },
          "metadata": {
            "tags": []
          },
          "execution_count": 236
        }
      ]
    },
    {
      "cell_type": "code",
      "metadata": {
        "id": "oaLD2OekQAzp",
        "colab_type": "code",
        "colab": {},
        "outputId": "dc62fffe-f3cc-4acd-d08a-8dd3aa24cdce"
      },
      "source": [
        "print(x[5],X[5])"
      ],
      "execution_count": 0,
      "outputs": [
        {
          "output_type": "stream",
          "text": [
            "4.330790472027315 4.33\n"
          ],
          "name": "stdout"
        }
      ]
    },
    {
      "cell_type": "markdown",
      "metadata": {
        "id": "ScsuEfhgQAzt",
        "colab_type": "text"
      },
      "source": [
        "### Math Library"
      ]
    },
    {
      "cell_type": "code",
      "metadata": {
        "id": "8QJHn6EDQAzt",
        "colab_type": "code",
        "colab": {},
        "outputId": "b8d6c69d-40e1-40e3-9380-ba94e44cfc5f"
      },
      "source": [
        "import math\n",
        "math.pi\n",
        "math.e\n",
        "math.sin(math.pi/6)\n",
        "# sin,cos,tan,asin,acos,atan,sinh,...,log,log10,exp,floor,fabs,sqrt"
      ],
      "execution_count": 0,
      "outputs": [
        {
          "output_type": "execute_result",
          "data": {
            "text/plain": [
              "0.49999999999999994"
            ]
          },
          "metadata": {
            "tags": []
          },
          "execution_count": 248
        }
      ]
    },
    {
      "cell_type": "code",
      "metadata": {
        "id": "Ttr3TPcZQAzv",
        "colab_type": "code",
        "colab": {},
        "outputId": "e09e3284-d0f5-4d7e-be34-5ae0127276b7"
      },
      "source": [
        "from math import sin,pi\n",
        "sin(pi/6)\n",
        "#cos(pi/6)"
      ],
      "execution_count": 0,
      "outputs": [
        {
          "output_type": "execute_result",
          "data": {
            "text/plain": [
              "0.49999999999999994"
            ]
          },
          "metadata": {
            "tags": []
          },
          "execution_count": 254
        }
      ]
    },
    {
      "cell_type": "code",
      "metadata": {
        "id": "Z0ywVUY9QAzx",
        "colab_type": "code",
        "colab": {}
      },
      "source": [
        "import math as mt"
      ],
      "execution_count": 0,
      "outputs": []
    },
    {
      "cell_type": "code",
      "metadata": {
        "id": "iLSf2-SNQAz2",
        "colab_type": "code",
        "colab": {},
        "outputId": "719d9910-f814-4e24-f562-9f078a17feda"
      },
      "source": [
        "print(mt.cos(pi/6),mt.sqrt(3)/2)"
      ],
      "execution_count": 0,
      "outputs": [
        {
          "output_type": "stream",
          "text": [
            "0.8660254037844387 0.8660254037844386\n"
          ],
          "name": "stdout"
        }
      ]
    },
    {
      "cell_type": "code",
      "metadata": {
        "id": "EDN9oDGBQAz9",
        "colab_type": "code",
        "colab": {}
      },
      "source": [
        "from math import *"
      ],
      "execution_count": 0,
      "outputs": []
    },
    {
      "cell_type": "code",
      "metadata": {
        "id": "j5PRdHS2QA0E",
        "colab_type": "code",
        "colab": {},
        "outputId": "12cfa3f9-9e27-44ba-9ea4-352321e6a909"
      },
      "source": [
        "sin(pi/2)\n",
        "cos(pi/6)\n",
        "log10(e)"
      ],
      "execution_count": 0,
      "outputs": [
        {
          "output_type": "execute_result",
          "data": {
            "text/plain": [
              "0.4342944819032518"
            ]
          },
          "metadata": {
            "tags": []
          },
          "execution_count": 264
        }
      ]
    },
    {
      "cell_type": "code",
      "metadata": {
        "id": "KPQcamYRQA0I",
        "colab_type": "code",
        "colab": {}
      },
      "source": [
        "import numpy as np"
      ],
      "execution_count": 0,
      "outputs": []
    },
    {
      "cell_type": "code",
      "metadata": {
        "id": "3Wo_hNj8QA0S",
        "colab_type": "code",
        "colab": {},
        "outputId": "9d85b4e1-c538-4858-cb6b-647c634c37d7"
      },
      "source": [
        "print(mt.cos(pi/2),np.cos(pi/2))"
      ],
      "execution_count": 0,
      "outputs": [
        {
          "output_type": "stream",
          "text": [
            "6.123233995736766e-17 6.123233995736766e-17\n"
          ],
          "name": "stdout"
        }
      ]
    },
    {
      "cell_type": "code",
      "metadata": {
        "id": "AhC0aKQgQA0X",
        "colab_type": "code",
        "colab": {},
        "outputId": "0fa586be-2c59-42be-ee2c-7e341feda6b8"
      },
      "source": [
        "np.cos(X)"
      ],
      "execution_count": 0,
      "outputs": [
        {
          "output_type": "execute_result",
          "data": {
            "text/plain": [
              "array([ 1.        ,  0.64482655, -0.158532  , -0.85688875, -0.94973521,\n",
              "       -0.37313797,  0.46851667,  0.97519737,  0.79800746,  0.05395542,\n",
              "       -0.72153611])"
            ]
          },
          "metadata": {
            "tags": []
          },
          "execution_count": 275
        }
      ]
    },
    {
      "cell_type": "code",
      "metadata": {
        "id": "8COoXFucQA0a",
        "colab_type": "code",
        "colab": {},
        "outputId": "d6a99e59-397a-4559-cf3b-dc861050feb4"
      },
      "source": [
        "[mt.cos(X[i]) for i in range(len(X))]"
      ],
      "execution_count": 0,
      "outputs": [
        {
          "output_type": "execute_result",
          "data": {
            "text/plain": [
              "[1.0,\n",
              " 0.6448265472400012,\n",
              " -0.15853200064419776,\n",
              " -0.8568887533689473,\n",
              " -0.9497352095434962,\n",
              " -0.3731379704378176,\n",
              " 0.4685166713003771,\n",
              " 0.9751973713085926,\n",
              " 0.7980074612903593,\n",
              " 0.05395542056264975,\n",
              " -0.7215361100350928]"
            ]
          },
          "metadata": {
            "tags": []
          },
          "execution_count": 276
        }
      ]
    },
    {
      "cell_type": "code",
      "metadata": {
        "id": "n52yfbHDQA0e",
        "colab_type": "code",
        "colab": {}
      },
      "source": [
        "# def , lambda , numpy , figure"
      ],
      "execution_count": 0,
      "outputs": []
    }
  ]
}